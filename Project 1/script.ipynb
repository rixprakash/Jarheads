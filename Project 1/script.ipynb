{
  "nbformat": 4,
  "nbformat_minor": 0,
  "metadata": {
    "colab": {
      "provenance": [],
      "authorship_tag": "ABX9TyOh8yhuLwgKhWxdh4GoLmu9",
      "include_colab_link": true
    },
    "kernelspec": {
      "name": "python3",
      "display_name": "Python 3"
    },
    "language_info": {
      "name": "python"
    }
  },
  "cells": [
    {
      "cell_type": "markdown",
      "metadata": {
        "id": "view-in-github",
        "colab_type": "text"
      },
      "source": [
        "<a href=\"https://colab.research.google.com/github/rixprakash/Jarheads/blob/main/Project%201/script.ipynb\" target=\"_parent\"><img src=\"https://colab.research.google.com/assets/colab-badge.svg\" alt=\"Open In Colab\"/></a>"
      ]
    },
    {
      "cell_type": "code",
      "execution_count": 2,
      "metadata": {
        "colab": {
          "base_uri": "https://localhost:8080/"
        },
        "id": "gW6wEj822qk3",
        "outputId": "913d1f6c-eeb5-4eaa-ab32-a423a815e4bb"
      },
      "outputs": [
        {
          "output_type": "stream",
          "name": "stdout",
          "text": [
            "/bin/bash: line 1: clone: command not found\n"
          ]
        }
      ],
      "source": [
        "! clone https://github.com/rixprakash/Jarheads"
      ]
    },
    {
      "cell_type": "code",
      "source": [
        "import pandas as pd\n",
        "music = pd.read()"
      ],
      "metadata": {
        "id": "w3iTcVtr2wmG"
      },
      "execution_count": null,
      "outputs": []
    }
  ]
}