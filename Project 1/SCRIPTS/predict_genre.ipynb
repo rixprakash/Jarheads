{
  "nbformat": 4,
  "nbformat_minor": 0,
  "metadata": {
    "colab": {
      "provenance": [],
      "machine_shape": "hm",
      "gpuType": "A100"
    },
    "kernelspec": {
      "name": "python3",
      "display_name": "Python 3"
    },
    "language_info": {
      "name": "python"
    },
    "accelerator": "GPU"
  },
  "cells": [
    {
      "cell_type": "code",
      "execution_count": 2,
      "metadata": {
        "colab": {
          "base_uri": "https://localhost:8080/"
        },
        "id": "mTpykPVId3b_",
        "outputId": "9640a436-cfc4-4479-b80a-3d498be085b8"
      },
      "outputs": [
        {
          "output_type": "stream",
          "name": "stdout",
          "text": [
            "Loading BERT model...\n"
          ]
        },
        {
          "output_type": "stream",
          "name": "stderr",
          "text": [
            "WARNING:absl:Compiled the loaded model, but the compiled metrics have yet to be built. `model.compile_metrics` will be empty until you train or evaluate the model.\n"
          ]
        },
        {
          "output_type": "stream",
          "name": "stdout",
          "text": [
            "BERT model loaded successfully!\n",
            "Loading trained models...\n",
            "Models loaded successfully!\n",
            "\n",
            "Processing lyrics...\n",
            "\u001b[1m1/1\u001b[0m \u001b[32m━━━━━━━━━━━━━━━━━━━━\u001b[0m\u001b[37m\u001b[0m \u001b[1m0s\u001b[0m 258ms/step\n",
            "\n",
            "🎵 Predicted Genres 🎵\n",
            "🎼 Logistic Regression: rock\n",
            "🎵 Neural Network: pop\n"
          ]
        }
      ],
      "source": [
        "import os\n",
        "import torch\n",
        "import numpy as np\n",
        "import joblib\n",
        "import requests\n",
        "from transformers import BertTokenizer, BertModel\n",
        "from tensorflow.keras.models import load_model\n",
        "\n",
        "# Ensure GPU is used if available\n",
        "device = \"cuda\" if torch.cuda.is_available() else \"cpu\"\n",
        "\n",
        "##############################\n",
        "# 1. Helper Function to Download Files\n",
        "##############################\n",
        "GITHUB_BASE_URL = \"https://raw.githubusercontent.com/rixprakash/Jarheads/main/Project%201/OUTPUT/\"\n",
        "\n",
        "FILES_TO_DOWNLOAD = [\n",
        "    \"logistic_regression_bert.pkl\",\n",
        "    \"neural_network_bert.h5\",\n",
        "    \"label_encoder.pkl\"\n",
        "]\n",
        "\n",
        "def download_file(filename):\n",
        "    \"\"\"Downloads a file from the GitHub repository if it's missing.\"\"\"\n",
        "    if not os.path.exists(filename):\n",
        "        print(f\"Downloading {filename} from GitHub...\")\n",
        "        url = GITHUB_BASE_URL + filename\n",
        "        response = requests.get(url)\n",
        "        if response.status_code == 200:\n",
        "            with open(filename, \"wb\") as f:\n",
        "                f.write(response.content)\n",
        "            print(f\"{filename} downloaded successfully!\")\n",
        "        else:\n",
        "            raise FileNotFoundError(f\"Failed to download {filename}\")\n",
        "\n",
        "# Ensure all required files are present\n",
        "for file in FILES_TO_DOWNLOAD:\n",
        "    download_file(file)\n",
        "\n",
        "##############################\n",
        "# 2. Load Pretrained BERT Model\n",
        "##############################\n",
        "print(\"Loading BERT model...\")\n",
        "tokenizer = BertTokenizer.from_pretrained(\"bert-base-uncased\")\n",
        "bert_model = BertModel.from_pretrained(\"bert-base-uncased\").to(device)\n",
        "print(\"BERT model loaded successfully!\")\n",
        "\n",
        "##############################\n",
        "# 3. Load Trained Models & Label Encoder\n",
        "##############################\n",
        "print(\"Loading trained models...\")\n",
        "logistic_model = joblib.load(\"logistic_regression_bert.pkl\")\n",
        "nn_model = load_model(\"neural_network_bert.h5\")\n",
        "label_encoder = joblib.load(\"label_encoder.pkl\")\n",
        "print(\"Models loaded successfully!\")\n",
        "\n",
        "##############################\n",
        "# 4. Function to Convert Lyrics to BERT Embeddings\n",
        "##############################\n",
        "def get_bert_embedding(text):\n",
        "    \"\"\"Converts a single piece of text into a BERT embedding.\"\"\"\n",
        "    tokens = tokenizer(text, return_tensors=\"pt\", truncation=True, padding=True, max_length=512)\n",
        "    tokens = {key: val.to(device) for key, val in tokens.items()}\n",
        "\n",
        "    with torch.no_grad():\n",
        "        output = bert_model(**tokens)\n",
        "\n",
        "    embedding = output.last_hidden_state[:, 0, :].cpu().numpy()\n",
        "    return embedding\n",
        "\n",
        "##############################\n",
        "# 5. Predict Genre Function\n",
        "##############################\n",
        "def predict_genre(lyrics):\n",
        "    \"\"\"Predicts the genre of given lyrics.\"\"\"\n",
        "    print(\"\\nProcessing lyrics...\")\n",
        "    embedding = get_bert_embedding(lyrics)\n",
        "\n",
        "    # Predict with Logistic Regression\n",
        "    logreg_pred = logistic_model.predict(embedding)[0]\n",
        "    logreg_genre = label_encoder.inverse_transform([logreg_pred])[0]\n",
        "\n",
        "    # Predict with Neural Network\n",
        "    nn_pred = nn_model.predict(embedding)\n",
        "    nn_genre = label_encoder.inverse_transform([np.argmax(nn_pred)])[0]\n",
        "\n",
        "    print(\"\\n🎵 Predicted Genres 🎵\")\n",
        "    print(f\"🎼 Logistic Regression: {logreg_genre}\")\n",
        "    print(f\"🎵 Neural Network: {nn_genre}\")\n",
        "    return logreg_genre, nn_genre\n",
        "\n",
        "##############################\n",
        "# 6. Run the Prediction\n",
        "##############################\n",
        "if __name__ == \"__main__\":\n",
        "    sample_lyrics = \"I'm walking down the lonely road, with a guitar in my hand, singing the blues.\"\n",
        "    predict_genre(sample_lyrics)\n"
      ]
    }
  ]
}