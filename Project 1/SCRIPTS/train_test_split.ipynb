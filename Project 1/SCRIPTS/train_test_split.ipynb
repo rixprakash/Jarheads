{
  "nbformat": 4,
  "nbformat_minor": 0,
  "metadata": {
    "colab": {
      "provenance": []
    },
    "kernelspec": {
      "name": "python3",
      "display_name": "Python 3"
    },
    "language_info": {
      "name": "python"
    }
  },
  "cells": [
    {
      "cell_type": "code",
      "execution_count": 1,
      "metadata": {
        "colab": {
          "base_uri": "https://localhost:8080/"
        },
        "id": "iYOVx4SsMiLF",
        "outputId": "0bb12768-e503-484c-ec2d-bcb5462eb57d"
      },
      "outputs": [
        {
          "output_type": "stream",
          "name": "stdout",
          "text": [
            "Training data saved to: train_data.csv\n",
            "Testing data saved to: test_data.csv\n"
          ]
        }
      ],
      "source": [
        "import pandas as pd\n",
        "from sklearn.model_selection import train_test_split\n",
        "\n",
        "# GitHub raw file URL\n",
        "github_url = \"https://raw.githubusercontent.com/rixprakash/Jarheads/main/Project%201/DATA/processed_data.csv\"\n",
        "\n",
        "# Load the data from GitHub\n",
        "df = pd.read_csv(github_url)\n",
        "\n",
        "# Split the data (80% training, 20% testing)\n",
        "train_df, test_df = train_test_split(df, test_size=0.2, random_state=42)\n",
        "\n",
        "# Save the split data locally\n",
        "train_file_path = \"train_data.csv\"\n",
        "test_file_path = \"test_data.csv\"\n",
        "\n",
        "train_df.to_csv(train_file_path, index=False)\n",
        "test_df.to_csv(test_file_path, index=False)\n",
        "\n",
        "print(f\"Training data saved to: {train_file_path}\")\n",
        "print(f\"Testing data saved to: {test_file_path}\")\n"
      ]
    }
  ]
}