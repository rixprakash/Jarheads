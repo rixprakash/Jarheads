{
  "nbformat": 4,
  "nbformat_minor": 0,
  "metadata": {
    "colab": {
      "provenance": [],
      "machine_shape": "hm",
      "gpuType": "A100"
    },
    "kernelspec": {
      "name": "python3",
      "display_name": "Python 3"
    },
    "language_info": {
      "name": "python"
    },
    "accelerator": "GPU"
  },
  "cells": [
    {
      "cell_type": "code",
      "source": [
        "import os\n",
        "os.makedirs(\"OUTPUT/\", exist_ok=True)"
      ],
      "metadata": {
        "id": "RQweZGSjtL4H"
      },
      "execution_count": 16,
      "outputs": []
    },
    {
      "cell_type": "code",
      "source": [
        "import urllib.request\n",
        "\n",
        "GITHUB_Y_NPY_URL = \"https://raw.githubusercontent.com/rixprakash/Jarheads/main/Project%201/OUTPUT/y.npy\"\n",
        "urllib.request.urlretrieve(GITHUB_Y_NPY_URL, \"OUTPUT/y.npy\")\n",
        "\n",
        "print(\"✅ y.npy file downloaded successfully!\")"
      ],
      "metadata": {
        "colab": {
          "base_uri": "https://localhost:8080/"
        },
        "id": "EKHU16uatbf-",
        "outputId": "86561687-3bbb-4483-ee1f-4b53a29b6e40"
      },
      "execution_count": 17,
      "outputs": [
        {
          "output_type": "stream",
          "name": "stdout",
          "text": [
            "✅ y.npy file downloaded successfully!\n"
          ]
        }
      ]
    },
    {
      "cell_type": "code",
      "source": [
        "GITHUB_FILES = {\n",
        "    \"y.npy\": \"https://raw.githubusercontent.com/rixprakash/Jarheads/main/Project%201/OUTPUT/y.npy\",\n",
        "    \"X_embeddings.npy\": \"https://raw.githubusercontent.com/rixprakash/Jarheads/main/Project%201/OUTPUT/X_embeddings.npy\",\n",
        "    \"label_encoder.pkl\": \"https://raw.githubusercontent.com/rixprakash/Jarheads/main/Project%201/OUTPUT/label_encoder.pkl\",\n",
        "    \"logistic_regression_bert.pkl\": \"https://raw.githubusercontent.com/rixprakash/Jarheads/main/Project%201/OUTPUT/logistic_regression_bert.pkl\",\n",
        "    \"neural_network_bert.h5\": \"https://raw.githubusercontent.com/rixprakash/Jarheads/main/Project%201/OUTPUT/neural_network_bert.h5\"\n",
        "}\n",
        "\n",
        "for filename, url in GITHUB_FILES.items():\n",
        "    if not os.path.exists(f\"OUTPUT/{filename}\"):\n",
        "        urllib.request.urlretrieve(url, f\"OUTPUT/{filename}\")\n",
        "        print(f\"✅ {filename} downloaded successfully!\")\n",
        "    else:\n",
        "        print(f\"✔️ {filename} already exists.\")"
      ],
      "metadata": {
        "colab": {
          "base_uri": "https://localhost:8080/"
        },
        "id": "Jv6xgheYthuS",
        "outputId": "7a2a7e67-67f2-4619-8f69-958ef77b8286"
      },
      "execution_count": 18,
      "outputs": [
        {
          "output_type": "stream",
          "name": "stdout",
          "text": [
            "✔️ y.npy already exists.\n",
            "✔️ X_embeddings.npy already exists.\n",
            "✔️ label_encoder.pkl already exists.\n",
            "✔️ logistic_regression_bert.pkl already exists.\n",
            "✔️ neural_network_bert.h5 already exists.\n"
          ]
        }
      ]
    },
    {
      "cell_type": "code",
      "execution_count": 19,
      "metadata": {
        "colab": {
          "base_uri": "https://localhost:8080/"
        },
        "id": "YbeHuRXBsbJa",
        "outputId": "08664cc8-39b4-44f2-99dd-5572c7aa9af9"
      },
      "outputs": [
        {
          "output_type": "stream",
          "name": "stdout",
          "text": [
            "Requirement already satisfied: reportlab in /usr/local/lib/python3.11/dist-packages (4.3.1)\n",
            "Requirement already satisfied: pillow>=9.0.0 in /usr/local/lib/python3.11/dist-packages (from reportlab) (11.1.0)\n",
            "Requirement already satisfied: chardet in /usr/local/lib/python3.11/dist-packages (from reportlab) (5.2.0)\n",
            "Loading saved models and data...\n"
          ]
        },
        {
          "output_type": "stream",
          "name": "stderr",
          "text": [
            "WARNING:absl:Compiled the loaded model, but the compiled metrics have yet to be built. `model.compile_metrics` will be empty until you train or evaluate the model.\n"
          ]
        },
        {
          "output_type": "stream",
          "name": "stdout",
          "text": [
            "Models and data loaded successfully!\n",
            " Generating predictions...\n",
            "\u001b[1m887/887\u001b[0m \u001b[32m━━━━━━━━━━━━━━━━━━━━\u001b[0m\u001b[37m\u001b[0m \u001b[1m7s\u001b[0m 4ms/step\n",
            "\n",
            " Classification Report - Logistic Regression\n",
            "               precision    recall  f1-score   support\n",
            "\n",
            "       blues       0.39      0.32      0.35      4604\n",
            "     country       0.49      0.59      0.54      5445\n",
            "     hip hop       0.76      0.61      0.67       904\n",
            "        jazz       0.41      0.35      0.38      3845\n",
            "         pop       0.40      0.52      0.45      7042\n",
            "      reggae       0.50      0.40      0.44      2498\n",
            "        rock       0.46      0.35      0.40      4034\n",
            "\n",
            "    accuracy                           0.45     28372\n",
            "   macro avg       0.49      0.45      0.46     28372\n",
            "weighted avg       0.45      0.45      0.44     28372\n",
            "\n",
            "\n",
            " Classification Report - Neural Network\n",
            "               precision    recall  f1-score   support\n",
            "\n",
            "       blues       0.45      0.07      0.12      4604\n",
            "     country       0.44      0.55      0.49      5445\n",
            "     hip hop       0.98      0.42      0.59       904\n",
            "        jazz       0.74      0.05      0.09      3845\n",
            "         pop       0.29      0.66      0.40      7042\n",
            "      reggae       0.45      0.21      0.28      2498\n",
            "        rock       0.41      0.30      0.35      4034\n",
            "\n",
            "    accuracy                           0.36     28372\n",
            "   macro avg       0.54      0.32      0.33     28372\n",
            "weighted avg       0.46      0.36      0.32     28372\n",
            "\n",
            " Genre classification report saved to OUTPUT/genre_classification_report.pdf!\n",
            " Creating confusion matrices...\n",
            " Confusion matrices saved to OUTPUT/confusion_matrix.png!\n",
            "\n",
            " Analysis Complete!** All outputs saved in the OUTPUT/ directory.\n"
          ]
        }
      ],
      "source": [
        "!pip install reportlab\n",
        "\n",
        "import numpy as np\n",
        "import joblib\n",
        "import matplotlib.pyplot as plt\n",
        "import seaborn as sns\n",
        "from sklearn.metrics import classification_report, confusion_matrix\n",
        "from reportlab.lib.pagesizes import letter\n",
        "from reportlab.pdfgen import canvas\n",
        "from tensorflow.keras.models import load_model\n",
        "\n",
        "# 1. Load Necessary Files**\n",
        "print(\"Loading saved models and data...\")\n",
        "\n",
        "# Load labels\n",
        "y_test = np.load(\"OUTPUT/y.npy\")\n",
        "label_encoder = joblib.load(\"OUTPUT/label_encoder.pkl\")\n",
        "X_test_bert = np.load(\"OUTPUT/X_embeddings.npy\")  # BERT-based embeddings\n",
        "\n",
        "# Load trained models\n",
        "logreg_model = joblib.load(\"OUTPUT/logistic_regression_bert.pkl\")\n",
        "\n",
        "nn_model = load_model(\"OUTPUT/neural_network_bert.h5\")\n",
        "\n",
        "print(\"Models and data loaded successfully!\")\n",
        "\n",
        "# 2. Generate Predictions**\n",
        "print(\" Generating predictions...\")\n",
        "\n",
        "logreg_preds = logreg_model.predict(X_test_bert)\n",
        "nn_preds = np.argmax(nn_model.predict(X_test_bert), axis=1)\n",
        "\n",
        "#3. Classification Reports**\n",
        "logreg_report = classification_report(y_test, logreg_preds, target_names=label_encoder.classes_)\n",
        "nn_report = classification_report(y_test, nn_preds, target_names=label_encoder.classes_)\n",
        "\n",
        "print(\"\\n Classification Report - Logistic Regression\\n\", logreg_report)\n",
        "print(\"\\n Classification Report - Neural Network\\n\", nn_report)\n",
        "\n",
        "# 4. Save Classification Report as PDF**\n",
        "def save_combined_report_as_pdf(filename=\"OUTPUT/genre_classification_report.pdf\"):\n",
        "    c = canvas.Canvas(filename, pagesize=letter)\n",
        "    textobject = c.beginText(50, 750)\n",
        "\n",
        "    textobject.textLine(\" Genre Classification Report\")\n",
        "    textobject.textLine(\"──────────────────────────────────\")\n",
        "    textobject.textLine(\" Logistic Regression Results:\")\n",
        "    for line in logreg_report.split(\"\\n\"):\n",
        "        textobject.textLine(line)\n",
        "\n",
        "    textobject.textLine(\"\\n Neural Network Results:\")\n",
        "    for line in nn_report.split(\"\\n\"):\n",
        "        textobject.textLine(line)\n",
        "\n",
        "    c.drawText(textobject)\n",
        "    c.save()\n",
        "    print(\" Genre classification report saved to OUTPUT/genre_classification_report.pdf!\")\n",
        "\n",
        "save_combined_report_as_pdf()\n",
        "\n",
        "# 5. Generate and Save Confusion Matrices**\n",
        "def save_confusion_matrices():\n",
        "    print(\" Creating confusion matrices...\")\n",
        "\n",
        "    fig, axes = plt.subplots(1, 2, figsize=(14, 6))\n",
        "\n",
        "    # Logistic Regression Confusion Matrix\n",
        "    sns.heatmap(confusion_matrix(y_test, logreg_preds), annot=True, fmt=\"d\", cmap=\"Blues\",\n",
        "                xticklabels=label_encoder.classes_, yticklabels=label_encoder.classes_, ax=axes[0])\n",
        "    axes[0].set_title(\"Confusion Matrix - Logistic Regression\")\n",
        "    axes[0].set_xlabel(\"Predicted\")\n",
        "    axes[0].set_ylabel(\"Actual\")\n",
        "\n",
        "    # Neural Network Confusion Matrix\n",
        "    sns.heatmap(confusion_matrix(y_test, nn_preds), annot=True, fmt=\"d\", cmap=\"Blues\",\n",
        "                xticklabels=label_encoder.classes_, yticklabels=label_encoder.classes_, ax=axes[1])\n",
        "    axes[1].set_title(\"Confusion Matrix - Neural Network\")\n",
        "    axes[1].set_xlabel(\"Predicted\")\n",
        "    axes[1].set_ylabel(\"Actual\")\n",
        "\n",
        "    plt.tight_layout()\n",
        "    plt.savefig(\"OUTPUT/confusion_matrix.png\")\n",
        "    plt.close()\n",
        "    print(\" Confusion matrices saved to OUTPUT/confusion_matrix.png!\")\n",
        "\n",
        "save_confusion_matrices()\n",
        "\n",
        "print(\"\\n Analysis Complete!** All outputs saved in the OUTPUT/ directory.\")\n"
      ]
    },
    {
      "cell_type": "code",
      "source": [],
      "metadata": {
        "id": "9QRtvbDCs2w2"
      },
      "execution_count": 19,
      "outputs": []
    }
  ]
}